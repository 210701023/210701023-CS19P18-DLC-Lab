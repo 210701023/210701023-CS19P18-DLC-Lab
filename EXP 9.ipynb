{
  "nbformat": 4,
  "nbformat_minor": 0,
  "metadata": {
    "colab": {
      "provenance": []
    },
    "kernelspec": {
      "name": "python3",
      "display_name": "Python 3"
    },
    "language_info": {
      "name": "python"
    }
  },
  "cells": [
    {
      "cell_type": "code",
      "source": [
        "import torch\n",
        "from torch import nn\n",
        "\n",
        "import math\n",
        "import matplotlib.pyplot as plt"
      ],
      "metadata": {
        "id": "6o6CZgwlR3H3"
      },
      "execution_count": 31,
      "outputs": []
    },
    {
      "cell_type": "code",
      "source": [
        "torch.manual_seed(111)"
      ],
      "metadata": {
        "colab": {
          "base_uri": "https://localhost:8080/"
        },
        "id": "-J4G0KtTR43w",
        "outputId": "ea66a1b3-a587-452d-bd5b-45ffd192f069"
      },
      "execution_count": 32,
      "outputs": [
        {
          "output_type": "execute_result",
          "data": {
            "text/plain": [
              "<torch._C.Generator at 0x7fd61ac47190>"
            ]
          },
          "metadata": {},
          "execution_count": 32
        }
      ]
    },
    {
      "cell_type": "code",
      "source": [
        "train_data_length = 1024\n",
        "train_data = torch.zeros((train_data_length, 2))\n",
        "train_data[:, 0] = 2 * math.pi * torch.rand(train_data_length)\n",
        "train_data[:, 1] = torch.sin(train_data[:, 0])\n",
        "train_labels = torch.zeros(train_data_length)\n",
        "train_set = [\n",
        "    (train_data[i], train_labels[i]) for i in range(train_data_length)\n",
        "]"
      ],
      "metadata": {
        "id": "IJUPp4RwR8Xf"
      },
      "execution_count": 33,
      "outputs": []
    },
    {
      "cell_type": "code",
      "source": [
        "plt.plot(train_data[:, 0], train_data[:, 1], \".\")"
      ],
      "metadata": {
        "colab": {
          "base_uri": "https://localhost:8080/",
          "height": 447
        },
        "id": "mY8jGSP_R_UP",
        "outputId": "5046a919-b0b5-424b-a4e6-df72c43dabd1"
      },
      "execution_count": 34,
      "outputs": [
        {
          "output_type": "execute_result",
          "data": {
            "text/plain": [
              "[<matplotlib.lines.Line2D at 0x7fd56ba51f60>]"
            ]
          },
          "metadata": {},
          "execution_count": 34
        },
        {
          "output_type": "display_data",
          "data": {
            "text/plain": [
              "<Figure size 640x480 with 1 Axes>"
            ],
            "image/png": "[encoded data removed]"
          },
          "metadata": {}
        }
      ]
    },
    {
      "cell_type": "code",
      "source": [
        "batch_size = 32\n",
        "train_loader = torch.utils.data.DataLoader(\n",
        "    train_set, batch_size=batch_size, shuffle=True\n",
        ")"
      ],
      "metadata": {
        "id": "V_iz4caZSCUt"
      },
      "execution_count": 35,
      "outputs": []
    },
    {
      "cell_type": "code",
      "source": [
        "class Discriminator(nn.Module):\n",
        "    def __init__(self):\n",
        "        super().__init__()\n",
        "        self.model = nn.Sequential(\n",
        "            nn.Linear(2, 256),\n",
        "            nn.ReLU(),\n",
        "            nn.Dropout(0.3),\n",
        "            nn.Linear(256, 128),\n",
        "            nn.ReLU(),\n",
        "            nn.Dropout(0.3),\n",
        "            nn.Linear(128, 64),\n",
        "            nn.ReLU(),\n",
        "            nn.Dropout(0.3),\n",
        "            nn.Linear(64, 1),\n",
        "            nn.Sigmoid(),\n",
        "        )\n",
        "\n",
        "    def forward(self, x):\n",
        "        output = self.model(x)\n",
        "        return output"
      ],
      "metadata": {
        "id": "i7KCUYcdSFNJ"
      },
      "execution_count": 36,
      "outputs": []
    },
    {
      "cell_type": "code",
      "source": [
        "discriminator = Discriminator()"
      ],
      "metadata": {
        "id": "fZgizrU6SIqV"
      },
      "execution_count": 37,
      "outputs": []
    },
    {
      "cell_type": "code",
      "source": [
        "class Generator(nn.Module):\n",
        "    def __init__(self):\n",
        "        super().__init__()\n",
        "        self.model = nn.Sequential(\n",
        "            nn.Linear(2, 16),\n",
        "            nn.ReLU(),\n",
        "            nn.Linear(16, 32),\n",
        "            nn.ReLU(),\n",
        "            nn.Linear(32, 2),\n",
        "        )\n",
        "\n",
        "    def forward(self, x):\n",
        "        output = self.model(x)\n",
        "        return output\n",
        "\n",
        "generator = Generator()"
      ],
      "metadata": {
        "id": "XiILLc9JSLYg"
      },
      "execution_count": 38,
      "outputs": []
    },
    {
      "cell_type": "code",
      "source": [
        "lr = 0.001\n",
        "num_epochs = 300\n",
        "loss_function = nn.BCELoss()"
      ],
      "metadata": {
        "id": "rCx08iZ7SO5y"
      },
      "execution_count": 39,
      "outputs": []
    },
    {
      "cell_type": "code",
      "source": [
        "optimizer_discriminator = torch.optim.Adam(discriminator.parameters(), lr=lr)\n",
        "optimizer_generator = torch.optim.Adam(generator.parameters(), lr=lr)"
      ],
      "metadata": {
        "id": "-EHcMEhzSRb2"
      },
      "execution_count": 40,
      "outputs": []
    },
    {
      "cell_type": "code",
      "source": [
        "for epoch in range(num_epochs):\n",
        "    for n, (real_samples, _) in enumerate(train_loader):\n",
        "        # Data for training the discriminator\n",
        "        real_samples_labels = torch.ones((batch_size, 1))\n",
        "        latent_space_samples = torch.randn((batch_size, 2))\n",
        "        generated_samples = generator(latent_space_samples)\n",
        "        generated_samples_labels = torch.zeros((batch_size, 1))\n",
        "        all_samples = torch.cat((real_samples, generated_samples))\n",
        "        all_samples_labels = torch.cat(\n",
        "            (real_samples_labels, generated_samples_labels)\n",
        "        )\n",
        "\n",
        "        # Training the discriminator\n",
        "        discriminator.zero_grad()\n",
        "        output_discriminator = discriminator(all_samples)\n",
        "        loss_discriminator = loss_function(\n",
        "            output_discriminator, all_samples_labels)\n",
        "        loss_discriminator.backward()\n",
        "        optimizer_discriminator.step()\n",
        "\n",
        "        # Data for training the generator\n",
        "        latent_space_samples = torch.randn((batch_size, 2))\n",
        "\n",
        "        # Training the generator\n",
        "        generator.zero_grad()\n",
        "        generated_samples = generator(latent_space_samples)\n",
        "        output_discriminator_generated = discriminator(generated_samples)\n",
        "        loss_generator = loss_function(\n",
        "            output_discriminator_generated, real_samples_labels\n",
        "        )\n",
        "        loss_generator.backward()\n",
        "        optimizer_generator.step()\n",
        "\n",
        "        # Show loss\n",
        "        if epoch % 10 == 0 and n == batch_size - 1:\n",
        "            print(f\"Epoch: {epoch} Loss D.: {loss_discriminator}\")\n",
        "            print(f\"Epoch: {epoch} Loss G.: {loss_generator}\")"
      ],
      "metadata": {
        "colab": {
          "base_uri": "https://localhost:8080/"
        },
        "id": "14BGSVmKST1e",
        "outputId": "3f028142-6ed2-496c-f94b-9baafe16273f"
      },
      "execution_count": 41,
      "outputs": [
        {
          "output_type": "stream",
          "name": "stdout",
          "text": [
            "Epoch: 0 Loss D.: 0.21308739483356476\n",
            "Epoch: 0 Loss G.: 1.7989581823349\n",
            "Epoch: 10 Loss D.: 0.6099680662155151\n",
            "Epoch: 10 Loss G.: 0.9077385067939758\n",
            "Epoch: 20 Loss D.: 0.6200631260871887\n",
            "Epoch: 20 Loss G.: 0.9532094597816467\n",
            "Epoch: 30 Loss D.: 0.6124153137207031\n",
            "Epoch: 30 Loss G.: 0.9558998346328735\n",
            "Epoch: 40 Loss D.: 0.6650296449661255\n",
            "Epoch: 40 Loss G.: 0.8365310430526733\n",
            "Epoch: 50 Loss D.: 0.6603741645812988\n",
            "Epoch: 50 Loss G.: 0.8846002817153931\n",
            "Epoch: 60 Loss D.: 0.6199278235435486\n",
            "Epoch: 60 Loss G.: 1.0101035833358765\n",
            "Epoch: 70 Loss D.: 0.7135947942733765\n",
            "Epoch: 70 Loss G.: 0.6636365652084351\n",
            "Epoch: 80 Loss D.: 0.6268820762634277\n",
            "Epoch: 80 Loss G.: 0.8861529231071472\n",
            "Epoch: 90 Loss D.: 0.6730433106422424\n",
            "Epoch: 90 Loss G.: 0.6713212132453918\n",
            "Epoch: 100 Loss D.: 0.6388757228851318\n",
            "Epoch: 100 Loss G.: 0.7683221101760864\n",
            "Epoch: 110 Loss D.: 0.6831697821617126\n",
            "Epoch: 110 Loss G.: 0.7255038619041443\n",
            "Epoch: 120 Loss D.: 0.6909633874893188\n",
            "Epoch: 120 Loss G.: 0.7029704451560974\n",
            "Epoch: 130 Loss D.: 0.6790497303009033\n",
            "Epoch: 130 Loss G.: 0.7128610610961914\n",
            "Epoch: 140 Loss D.: 0.6861333847045898\n",
            "Epoch: 140 Loss G.: 0.6968041658401489\n",
            "Epoch: 150 Loss D.: 0.6956012845039368\n",
            "Epoch: 150 Loss G.: 0.6977606415748596\n",
            "Epoch: 160 Loss D.: 0.6911643743515015\n",
            "Epoch: 160 Loss G.: 0.7152678370475769\n",
            "Epoch: 170 Loss D.: 0.6698235869407654\n",
            "Epoch: 170 Loss G.: 0.6709437966346741\n",
            "Epoch: 180 Loss D.: 0.6910932660102844\n",
            "Epoch: 180 Loss G.: 0.6904947757720947\n",
            "Epoch: 190 Loss D.: 0.6874595880508423\n",
            "Epoch: 190 Loss G.: 0.6943597197532654\n",
            "Epoch: 200 Loss D.: 0.6762025952339172\n",
            "Epoch: 200 Loss G.: 0.7460954189300537\n",
            "Epoch: 210 Loss D.: 0.6567701697349548\n",
            "Epoch: 210 Loss G.: 0.807758092880249\n",
            "Epoch: 220 Loss D.: 0.6810824275016785\n",
            "Epoch: 220 Loss G.: 0.7369467616081238\n",
            "Epoch: 230 Loss D.: 0.6644755005836487\n",
            "Epoch: 230 Loss G.: 0.8053215742111206\n",
            "Epoch: 240 Loss D.: 0.7368281483650208\n",
            "Epoch: 240 Loss G.: 0.7565316557884216\n",
            "Epoch: 250 Loss D.: 0.7425782680511475\n",
            "Epoch: 250 Loss G.: 0.6542418003082275\n",
            "Epoch: 260 Loss D.: 0.6676594614982605\n",
            "Epoch: 260 Loss G.: 0.8807660341262817\n",
            "Epoch: 270 Loss D.: 0.6943832635879517\n",
            "Epoch: 270 Loss G.: 0.6862396597862244\n",
            "Epoch: 280 Loss D.: 0.6351270079612732\n",
            "Epoch: 280 Loss G.: 0.7778574228286743\n",
            "Epoch: 290 Loss D.: 0.6570214629173279\n",
            "Epoch: 290 Loss G.: 0.7970967292785645\n"
          ]
        }
      ]
    },
    {
      "cell_type": "code",
      "source": [
        "latent_space_samples = torch.randn(100, 2)\n",
        "generated_samples = generator(latent_space_samples)"
      ],
      "metadata": {
        "id": "L6jATwxESpwG"
      },
      "execution_count": 42,
      "outputs": []
    },
    {
      "cell_type": "code",
      "source": [
        "generated_samples = generated_samples.detach()\n",
        "plt.plot(generated_samples[:, 0], generated_samples[:, 1], \".\")"
      ],
      "metadata": {
        "colab": {
          "base_uri": "https://localhost:8080/",
          "height": 447
        },
        "id": "0lvYNJyFStZ-",
        "outputId": "f2008379-23d1-408c-bd05-049d8351ac5a"
      },
      "execution_count": 43,
      "outputs": [
        {
          "output_type": "execute_result",
          "data": {
            "text/plain": [
              "[<matplotlib.lines.Line2D at 0x7fd56c296ec0>]"
            ]
          },
          "metadata": {},
          "execution_count": 43
        },
        {
          "output_type": "display_data",
          "data": {
            "text/plain": [
              "<Figure size 640x480 with 1 Axes>"
            ],
            "image/png": "[encoded data removed]"
          },
          "metadata": {}
        }
      ]
    },
    {
      "cell_type": "code",
      "source": [],
      "metadata": {
        "id": "TdpXFzBaSx7D"
      },
      "execution_count": null,
      "outputs": []
    }
  ]
}