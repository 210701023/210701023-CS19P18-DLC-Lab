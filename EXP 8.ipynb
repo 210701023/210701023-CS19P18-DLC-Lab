{
  "nbformat": 4,
  "nbformat_minor": 0,
  "metadata": {
    "colab": {
      "provenance": []
    },
    "kernelspec": {
      "name": "python3",
      "display_name": "Python 3"
    },
    "language_info": {
      "name": "python"
    }
  },
  "cells": [
    {
      "cell_type": "code",
      "execution_count": 1,
      "metadata": {
        "id": "vP5hzJqPTOBb"
      },
      "outputs": [],
      "source": [
        "import cv2\n",
        "import numpy as np\n",
        "import argparse\n",
        "import time"
      ]
    },
    {
      "cell_type": "code",
      "source": [
        "def load_yolo():\n",
        "\tnet = cv2.dnn.readNet(\"yolov3.weights\", \"yolov3.cfg\")\n",
        "\tclasses = []\n",
        "\twith open(\"coco.names\", \"r\") as f:\n",
        "\t\tclasses = [line.strip() for line in f.readlines()]\n",
        "\tlayers_names = net.getLayerNames()\n",
        "\toutput_layers = [layers_names[i[0]-1] for i in net.getUnconnectedOutLayers()]\n",
        "\tcolors = np.random.uniform(0, 255, size=(len(classes), 3))\n",
        "\treturn net, classes, colors, output_layers"
      ],
      "metadata": {
        "id": "DrW79SP4Tr8O"
      },
      "execution_count": 2,
      "outputs": []
    },
    {
      "cell_type": "code",
      "source": [
        "def load_image(img_path):\n",
        "\t# image loading\n",
        "\timg = cv2.imread(img_path)\n",
        "\timg = cv2.resize(img, None, fx=0.4, fy=0.4)\n",
        "\theight, width, channels = img.shape\n",
        "\treturn img, height, width, channels"
      ],
      "metadata": {
        "id": "mizmn5FYTwTj"
      },
      "execution_count": 3,
      "outputs": []
    },
    {
      "cell_type": "code",
      "source": [
        "def detect_objects(img, net, outputLayers):\n",
        "\tblob = cv2.dnn.blobFromImage(img, scalefactor=0.00392, size=(320, 320), mean=(0, 0, 0), swapRB=True, crop=False)\n",
        "\tnet.setInput(blob)\n",
        "\toutputs = net.forward(outputLayers)\n",
        "\treturn blob, outputs"
      ],
      "metadata": {
        "id": "nB0WV4f0T0RQ"
      },
      "execution_count": 4,
      "outputs": []
    },
    {
      "cell_type": "code",
      "source": [
        "def get_box_dimensions(outputs, height, width):\n",
        "\tboxes = []\n",
        "\tconfs = []\n",
        "\tclass_ids = []\n",
        "\tfor output in outputs:\n",
        "\t\tfor detect in output:\n",
        "\t\t\tscores = detect[5:]\n",
        "\t\t\tprint(scores)\n",
        "\t\t\tclass_id = np.argmax(scores)\n",
        "\t\t\tconf = scores[class_id]\n",
        "\t\t\tif conf > 0.3:\n",
        "\t\t\t\tcenter_x = int(detect[0] * width)\n",
        "\t\t\t\tcenter_y = int(detect[1] * height)\n",
        "\t\t\t\tw = int(detect[2] * width)\n",
        "\t\t\t\th = int(detect[3] * height)\n",
        "\t\t\t\tx = int(center_x - w/2)\n",
        "\t\t\t\ty = int(center_y - h / 2)\n",
        "\t\t\t\tboxes.append([x, y, w, h])\n",
        "\t\t\t\tconfs.append(float(conf))\n",
        "\t\t\t\tclass_ids.append(class_id)\n",
        "\treturn boxes, confs, class_ids"
      ],
      "metadata": {
        "id": "6f-0zo8qT3Zf"
      },
      "execution_count": 5,
      "outputs": []
    },
    {
      "cell_type": "code",
      "source": [
        "def draw_labels(boxes, confs, colors, class_ids, classes, img):\n",
        "\tindexes = cv2.dnn.NMSBoxes(boxes, confs, 0.5, 0.4)\n",
        "\tfont = cv2.FONT_HERSHEY_PLAIN\n",
        "\tfor i in range(len(boxes)):\n",
        "\t\tif i in indexes:\n",
        "\t\t\tx, y, w, h = boxes[i]\n",
        "\t\t\tlabel = str(classes[class_ids[i]])\n",
        "\t\t\tcolor = colors[i]\n",
        "\t\t\tcv2.rectangle(img, (x,y), (x+w, y+h), color, 2)\n",
        "\t\t\tcv2.putText(img, label, (x, y - 5), font, 1, color, 1)\n",
        "\tcv2.imshow(\"Image\", img)"
      ],
      "metadata": {
        "id": "SuXpyqE9T69G"
      },
      "execution_count": 6,
      "outputs": []
    },
    {
      "cell_type": "code",
      "source": [
        "def image_detect(img_path):\n",
        "\tmodel, classes, colors, output_layers = load_yolo()\n",
        "\timage, height, width, channels = load_image(img_path)\n",
        "\tblob, outputs = detect_objects(image, model, output_layers)\n",
        "\tboxes, confs, class_ids = get_box_dimensions(outputs, height, width)\n",
        "\tdraw_labels(boxes, confs, colors, class_ids, classes, image)\n",
        "\twhile True:\n",
        "\t\tkey = cv2.waitKey(1)\n",
        "\t\tif key == 27:\n",
        "\t\t\tbreak"
      ],
      "metadata": {
        "id": "GvZ06xXjT-dj"
      },
      "execution_count": 7,
      "outputs": []
    },
    {
      "cell_type": "code",
      "source": [
        "def webcam_detect():\n",
        "\tmodel, classes, colors, output_layers = load_yolo()\n",
        "\tcap = start_webcam()\n",
        "\twhile True:\n",
        "\t\t_, frame = cap.read()\n",
        "\t\theight, width, channels = frame.shape\n",
        "\t\tblob, outputs = detect_objects(frame, model, output_layers)\n",
        "\t\tboxes, confs, class_ids = get_box_dimensions(outputs, height, width)\n",
        "\t\tdraw_labels(boxes, confs, colors, class_ids, classes, frame)\n",
        "\t\tkey = cv2.waitKey(1)\n",
        "\t\tif key == 27:\n",
        "\t\t\tbreak\n",
        "\tcap.release()\n",
        "\n",
        "\n",
        "def start_video(video_path):\n",
        "\tmodel, classes, colors, output_layers = load_yolo()\n",
        "\tcap = cv2.VideoCapture(video_path)\n",
        "\twhile True:\n",
        "\t\t_, frame = cap.read()\n",
        "\t\theight, width, channels = frame.shape\n",
        "\t\tblob, outputs = detect_objects(frame, model, output_layers)\n",
        "\t\tboxes, confs, class_ids = get_box_dimensions(outputs, height, width)\n",
        "\t\tdraw_labels(boxes, confs, colors, class_ids, classes, frame)\n",
        "\t\tkey = cv2.waitKey(1)\n",
        "\t\tif key == 27:\n",
        "\t\t\tbreak\n",
        "\tcap.release()"
      ],
      "metadata": {
        "id": "k4XEONq3UCim"
      },
      "execution_count": 8,
      "outputs": []
    }
  ]
}