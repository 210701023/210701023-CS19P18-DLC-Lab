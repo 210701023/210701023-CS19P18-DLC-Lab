{
  "nbformat": 4,
  "nbformat_minor": 0,
  "metadata": {
    "colab": {
      "provenance": []
    },
    "kernelspec": {
      "name": "python3",
      "display_name": "Python 3"
    },
    "language_info": {
      "name": "python"
    }
  },
  "cells": [
    {
      "cell_type": "code",
      "execution_count": 3,
      "metadata": {
        "id": "pek6XP1rU0lr"
      },
      "outputs": [],
      "source": [
        "import numpy as np # linear algebra\n",
        "import pandas as pd # data processing, CSV file I/O (e.g. pd.read_csv)\n",
        "\n",
        "# Input data files are available in the read-only \"../input/\" directory\n",
        "# For example, running this (by clicking run or pressing Shift+Enter) will list all files under the input directory\n",
        "\n",
        "import os\n",
        "#for dirname, _, filenames in os.walk('/kaggle/input'):\n",
        "#    for filename in filenames:\n",
        "        #print(os.path.join(dirname, filename))\n",
        "\n",
        "# You can write up to 20GB to the current directory (/kaggle/working/) that gets preserved as output when you create a version using \"Save & Run All\"\n",
        "# You can also write temporary files to /kaggle/temp/, but they won't be saved outside of the current session"
      ]
    },
    {
      "cell_type": "code",
      "source": [
        "import pandas as pd\n",
        "import numpy as np\n",
        "import os\n",
        "\n",
        "import matplotlib.pyplot as plt\n",
        "import seaborn as sns\n",
        "\n",
        "from glob import glob ## glob is used to retrieve files\n",
        "\n",
        "# set seed\n",
        "np.random.seed(21)"
      ],
      "metadata": {
        "id": "ox0ZqrmaWos0"
      },
      "execution_count": 4,
      "outputs": []
    },
    {
      "cell_type": "code",
      "source": [
        "from PIL import Image\n",
        "\n",
        "directory_benign_train = '../input/skin-cancer-malignant-vs-benign/train/benign'\n",
        "directory_malignant_train = '../input/skin-cancer-malignant-vs-benign/train/malignant'\n",
        "directory_benign_test = '../input/skin-cancer-malignant-vs-benign/test/benign'\n",
        "directory_malignant_test = '../input/skin-cancer-malignant-vs-benign/test/malignant'\n",
        "\n",
        "## Loading images and converting them to numpy array using their RGB value\n",
        "read = lambda imname: np.asarray(Image.open(imname).convert('RGB'))\n",
        "# np.asarray converts the objects into array/list\n",
        "\n",
        "# Loading train images\n",
        "img_benign_train = [read(os.path.join(directory_benign_train, filename)) for filename in os.listdir(directory_benign_train)]\n",
        "img_malignant_train = [read(os.path.join(directory_malignant_train, filename)) for filename in os.listdir(directory_malignant_train)]\n",
        "\n",
        "# Loading test images\n",
        "img_benign_test = [read(os.path.join(directory_benign_test, filename)) for filename in os.listdir(directory_benign_test)]\n",
        "img_malignant_test = [read(os.path.join(directory_malignant_test, filename)) for filename in os.listdir(directory_malignant_test)]\n",
        "\n",
        "#img_benign_train\n",
        "type(img_benign_train)"
      ],
      "metadata": {
        "colab": {
          "base_uri": "https://localhost:8080/",
          "height": 211
        },
        "id": "7vCaumIkWsDo",
        "outputId": "af621141-cefe-48fc-e41c-5a58236b0c99"
      },
      "execution_count": 5,
      "outputs": [
        {
          "output_type": "error",
          "ename": "FileNotFoundError",
          "evalue": "[Errno 2] No such file or directory: '../input/skin-cancer-malignant-vs-benign/train/benign'",
          "traceback": [
            "\u001b[0;31m---------------------------------------------------------------------------\u001b[0m",
            "\u001b[0;31mFileNotFoundError\u001b[0m                         Traceback (most recent call last)",
            "\u001b[0;32m<ipython-input-5-3bc4be35e7b4>\u001b[0m in \u001b[0;36m<cell line: 13>\u001b[0;34m()\u001b[0m\n\u001b[1;32m     11\u001b[0m \u001b[0;34m\u001b[0m\u001b[0m\n\u001b[1;32m     12\u001b[0m \u001b[0;31m# Loading train images\u001b[0m\u001b[0;34m\u001b[0m\u001b[0;34m\u001b[0m\u001b[0m\n\u001b[0;32m---> 13\u001b[0;31m \u001b[0mimg_benign_train\u001b[0m \u001b[0;34m=\u001b[0m \u001b[0;34m[\u001b[0m\u001b[0mread\u001b[0m\u001b[0;34m(\u001b[0m\u001b[0mos\u001b[0m\u001b[0;34m.\u001b[0m\u001b[0mpath\u001b[0m\u001b[0;34m.\u001b[0m\u001b[0mjoin\u001b[0m\u001b[0;34m(\u001b[0m\u001b[0mdirectory_benign_train\u001b[0m\u001b[0;34m,\u001b[0m \u001b[0mfilename\u001b[0m\u001b[0;34m)\u001b[0m\u001b[0;34m)\u001b[0m \u001b[0;32mfor\u001b[0m \u001b[0mfilename\u001b[0m \u001b[0;32min\u001b[0m \u001b[0mos\u001b[0m\u001b[0;34m.\u001b[0m\u001b[0mlistdir\u001b[0m\u001b[0;34m(\u001b[0m\u001b[0mdirectory_benign_train\u001b[0m\u001b[0;34m)\u001b[0m\u001b[0;34m]\u001b[0m\u001b[0;34m\u001b[0m\u001b[0;34m\u001b[0m\u001b[0m\n\u001b[0m\u001b[1;32m     14\u001b[0m \u001b[0mimg_malignant_train\u001b[0m \u001b[0;34m=\u001b[0m \u001b[0;34m[\u001b[0m\u001b[0mread\u001b[0m\u001b[0;34m(\u001b[0m\u001b[0mos\u001b[0m\u001b[0;34m.\u001b[0m\u001b[0mpath\u001b[0m\u001b[0;34m.\u001b[0m\u001b[0mjoin\u001b[0m\u001b[0;34m(\u001b[0m\u001b[0mdirectory_malignant_train\u001b[0m\u001b[0;34m,\u001b[0m \u001b[0mfilename\u001b[0m\u001b[0;34m)\u001b[0m\u001b[0;34m)\u001b[0m \u001b[0;32mfor\u001b[0m \u001b[0mfilename\u001b[0m \u001b[0;32min\u001b[0m \u001b[0mos\u001b[0m\u001b[0;34m.\u001b[0m\u001b[0mlistdir\u001b[0m\u001b[0;34m(\u001b[0m\u001b[0mdirectory_malignant_train\u001b[0m\u001b[0;34m)\u001b[0m\u001b[0;34m]\u001b[0m\u001b[0;34m\u001b[0m\u001b[0;34m\u001b[0m\u001b[0m\n\u001b[1;32m     15\u001b[0m \u001b[0;34m\u001b[0m\u001b[0m\n",
            "\u001b[0;31mFileNotFoundError\u001b[0m: [Errno 2] No such file or directory: '../input/skin-cancer-malignant-vs-benign/train/benign'"
          ]
        }
      ]
    },
    {
      "cell_type": "code",
      "source": [
        "# Converting list to numpy array for faster and more convenient operations going forward\n",
        "\n",
        "X_benign_train = np.array(img_benign_train, dtype='uint8')\n",
        "X_malignant_train = np.array(img_malignant_train, dtype='uint8')\n",
        "\n",
        "X_benign_test = np.array(img_benign_test, dtype='uint8')\n",
        "X_malignant_test = np.array(img_malignant_test, dtype='uint8')\n",
        "\n",
        "type(X_benign_train)"
      ],
      "metadata": {
        "id": "c3RbJWpzWyCy"
      },
      "execution_count": null,
      "outputs": []
    },
    {
      "cell_type": "code",
      "source": [
        "y_benign_train = np.zeros(X_benign_train.shape[0])\n",
        "y_malignant_train = np.ones(X_malignant_train.shape[0])\n",
        "\n",
        "y_benign_test = np.zeros(X_benign_test.shape[0])\n",
        "y_malignant_test = np.ones(X_malignant_test.shape[0])\n",
        "\n",
        "y_malignant_train\n",
        "array([1., 1., 1., ...,"
      ],
      "metadata": {
        "id": "KImRH96OW1m9"
      },
      "execution_count": null,
      "outputs": []
    },
    {
      "cell_type": "code",
      "source": [
        "X_train = np.concatenate((X_benign_train, X_malignant_train), axis=0)\n",
        "y_train = np.concatenate((y_benign_train, y_malignant_train), axis=0)\n",
        "\n",
        "X_test = np.concatenate((X_benign_test, X_malignant_test), axis=0)\n",
        "y_test = np.concatenate((y_benign_test, y_malignant_test), axis=0)\n",
        "\n",
        "print(\"Shape of X_train: \", X_train.shape) # one image constitutes to (224, 224, 3) and we have 2637 total images in training set\n",
        "print(\"Shape of y_train: \", y_train.shape)\n",
        "print(\"Shape of X_test: \", X_test.shape)\n",
        "print(\"Shape of y_test: \", y_test.shape)\n",
        "\n",
        "y_test"
      ],
      "metadata": {
        "id": "-vdazf_pW5Kp"
      },
      "execution_count": null,
      "outputs": []
    },
    {
      "cell_type": "code",
      "source": [
        "s1 = np.arange(X_train.shape[0])\n",
        "np.random.shuffle(s1)\n",
        "X_train = X_train[s1]\n",
        "y_train = y_train[s1]\n",
        "\n",
        "s2 = np.arange(X_test.shape[0])\n",
        "np.random.shuffle(s2)\n",
        "X_test = X_test[s2]\n",
        "y_test = y_test[s2]"
      ],
      "metadata": {
        "id": "hvbCvEHdW7xg"
      },
      "execution_count": null,
      "outputs": []
    },
    {
      "cell_type": "code",
      "source": [
        "print(\"Shuffle orders example: \", s1)"
      ],
      "metadata": {
        "id": "agRcdV3OW-6n"
      },
      "execution_count": null,
      "outputs": []
    },
    {
      "cell_type": "code",
      "source": [
        "fig = plt.figure(figsize=(12,8))\n",
        "columns = 5\n",
        "rows = 3\n",
        "\n",
        "for i in range(1, columns*rows+1):\n",
        "    ax = fig.add_subplot(rows, columns, i)\n",
        "    if y_train[i] == 0:\n",
        "        ax.title.set_text('Benign')\n",
        "    else:\n",
        "        ax.title.set_text('Malignant')\n",
        "    plt.imshow(X_train[i], interpolation='nearest')\n",
        "plt.show()"
      ],
      "metadata": {
        "id": "lVf-u4aNXBw4"
      },
      "execution_count": null,
      "outputs": []
    },
    {
      "cell_type": "code",
      "source": [
        "import keras\n",
        "from keras.utils.np_utils import to_categorical\n",
        "\n",
        "y_train = to_categorical(y_train, num_classes=2)\n",
        "y_test = to_categorical(y_test, num_classes=2)\n",
        "\n",
        "type(y_train)"
      ],
      "metadata": {
        "id": "nMD3cZOgXEl1"
      },
      "execution_count": null,
      "outputs": []
    },
    {
      "cell_type": "code",
      "source": [
        "y_train"
      ],
      "metadata": {
        "id": "iO0Dj39pXHUa"
      },
      "execution_count": null,
      "outputs": []
    },
    {
      "cell_type": "code",
      "source": [
        "## Normalize by dividing by RGB value\n",
        "X_train = X_train/255\n",
        "X_test = X_test/255"
      ],
      "metadata": {
        "id": "kTLWfH3QXJhn"
      },
      "execution_count": null,
      "outputs": []
    },
    {
      "cell_type": "code",
      "source": [
        "from keras.models import Sequential, Model\n",
        "from keras.layers import Dense, Dropout, Flatten, Conv2D, MaxPool2D\n",
        "from keras.optimizers import Adam, RMSprop\n",
        "\n",
        "def build_cnn_model(input_shape = (224, 224, 3), num_classes=2):\n",
        "\n",
        "    model = Sequential()\n",
        "\n",
        "    # adding 64 filters, each filter has a size of 3*3\n",
        "    # padding is of 2 types: SAME and VALID (SAME means doing the padding around the image, VALID means no padding)\n",
        "    # kernel initilizer is for intializing the weights of the network --> the default one is glorot_uniform so don't need to mention parameter\n",
        "    model.add(Conv2D(64, kernel_size=(3,3), padding='Same', input_shape = input_shape, activation='relu', kernel_initializer = 'glorot_uniform'))\n",
        "    model.add(MaxPool2D(pool_size = (2,2)))\n",
        "    # 25% of the nodes will be dropped out\n",
        "    model.add(Dropout(0.25))\n",
        "\n",
        "\n",
        "    model.add(Conv2D(64, kernel_size=(3,3), padding='Same', activation='relu', kernel_initializer = 'glorot_uniform'))\n",
        "    model.add(MaxPool2D(pool_size=(2,2)))\n",
        "    model.add(Dropout(0.25))\n",
        "\n",
        "\n",
        "    model.add(Flatten())\n",
        "\n",
        "    # normal initializer draws samples from a truncated normal distribution centered at 0 and SD = sqrt(2/number of input units)\n",
        "    model.add(Dense(128, activation='relu', kernel_initializer='normal'))\n",
        "    model.add(Dense(128, activation='relu', kernel_initializer='normal'))\n",
        "\n",
        "    model.add(Dense(num_classes, activation = 'softmax'))\n",
        "\n",
        "    model.summary()\n",
        "\n",
        "\n",
        "    ## OPTIMIZERS are the functions to adjust the weights and minimize the loss\n",
        "    # Adam combines the best properties of the AdaGrad and RMSProp algorithms to provide an optimization algorithm that can handle sparse gradients on noisy problems.\n",
        "    # Adam is relatively easy to configure where the default configuration parameters do well on most problems\n",
        "    # lr is the alpha rate i.e. learning rate\n",
        "    optimizer= Adam(lr=0.001)\n",
        "\n",
        "    model.compile(optimizer = optimizer, loss='binary_crossentropy', metrics=[\"accuracy\"])\n",
        "\n",
        "    return model"
      ],
      "metadata": {
        "id": "zVxsOYEuXN43"
      },
      "execution_count": null,
      "outputs": []
    },
    {
      "cell_type": "code",
      "source": [
        "model_cnn = build_cnn_model()"
      ],
      "metadata": {
        "id": "5byU1ab2XTUP"
      },
      "execution_count": null,
      "outputs": []
    },
    {
      "cell_type": "code",
      "source": [
        "from keras.callbacks import ReduceLROnPlateau\n",
        "\n",
        "# Learning rate annealer is used to reduce the learning rate by some percentage after certain number of training iterations/epochs\n",
        "learning_rate_annealer = ReduceLROnPlateau(monitor='val_acc',\n",
        "                                          patience=5,\n",
        "                                          verbose=1,\n",
        "                                          factor=0.5,\n",
        "                                          min_lr = 1e-7)\n",
        "\n",
        "# epochs is the number of iterations\n",
        "# batch_size is the number of images in one epoch\n",
        "# verbose = 1 shows us the animation of the epoch using progres_bar\n",
        "history = model_cnn.fit(X_train,\n",
        "                    y_train,\n",
        "                    validation_split=0.2,\n",
        "                    epochs=50,\n",
        "                    batch_size = 64,\n",
        "                    verbose=1,\n",
        "                    callbacks=[learning_rate_annealer])\n",
        "\n",
        "\n",
        "# list all data in history\n",
        "print(history.history.keys())"
      ],
      "metadata": {
        "id": "P0Vuv2jRXVyV"
      },
      "execution_count": null,
      "outputs": []
    },
    {
      "cell_type": "code",
      "source": [
        "## Summarize model history for accuracy and loss for training and validation\n",
        "\n",
        "# 1. Accuracy\n",
        "plt.plot(history.history['accuracy'])\n",
        "plt.plot(history.history['val_accuracy'])\n",
        "\n",
        "plt.title('Model Accuracy')\n",
        "plt.ylabel('Accuracy')\n",
        "plt.xlabel('Epochs')\n",
        "\n",
        "plt.legend(['Train', 'Val'], loc='upper left')\n",
        "plt.show()\n",
        "\n",
        "# 2. Loss\n",
        "plt.plot(history.history['loss'])\n",
        "plt.plot(history.history['val_loss'])\n",
        "\n",
        "plt.title('Model Loss')\n",
        "plt.ylabel('Loss')\n",
        "plt.xlabel('Epochs')\n",
        "\n",
        "plt.legend(['Train', 'Val'], loc='upper left')\n",
        "plt.show()"
      ],
      "metadata": {
        "id": "dEUFBc2sXaUt"
      },
      "execution_count": null,
      "outputs": []
    },
    {
      "cell_type": "code",
      "source": [
        "from sklearn.metrics import accuracy_score\n",
        "\n",
        "# Testing model on test data to evaluate\n",
        "y_pred = np.argmax(model_cnn.predict(X_test), axis=-1)\n",
        "\n",
        "print(accuracy_score(np.argmax(y_test, axis=1),y_pred))"
      ],
      "metadata": {
        "id": "gxoQhExOXePS"
      },
      "execution_count": null,
      "outputs": []
    },
    {
      "cell_type": "code",
      "source": [
        "y_pred = np.array(y_pred, dtype='uint8')\n",
        "y_pred"
      ],
      "metadata": {
        "id": "IrUcamR5Xgso"
      },
      "execution_count": null,
      "outputs": []
    },
    {
      "cell_type": "code",
      "source": [
        "X_test = np.concatenate((X_benign_test, X_malignant_test), axis=0)\n",
        "y_test = np.concatenate((y_benign_test, y_malignant_test), axis=0)\n",
        "\n",
        "# shuffling data\n",
        "s2 = np.arange(X_test.shape[0])\n",
        "np.random.shuffle(s2)\n",
        "X_test = X_test[s2]\n",
        "y_test = y_test[s2]\n",
        "y_pred = y_pred[s2]\n",
        "\n",
        "# plotting\n",
        "fig = plt.figure(figsize=(20,40))\n",
        "columns = 4\n",
        "rows = 10\n",
        "\n",
        "for i in range(1, columns*rows+1):\n",
        "    ax = fig.add_subplot(rows, columns, i)\n",
        "    if y_test[i] == 0:\n",
        "        if y_pred[i] == 0:\n",
        "            ax.set_title('Actual Benign, Predicted Benign', color='green')\n",
        "        else:\n",
        "            ax.set_title('Actual Benign, Predicted Malignant', color='yellow')\n",
        "    else:\n",
        "        if y_pred[i] == 1:\n",
        "            ax.set_title('Actual Malignant, Predicted Malignant', color='green')\n",
        "        else:\n",
        "            ax.set_title('Actual Malignant, Predicted Benign', color='red')\n",
        "\n",
        "\n",
        "    plt.imshow(X_test[i], interpolation='nearest')\n",
        "plt.show()"
      ],
      "metadata": {
        "id": "BuB_Yl4aXjEt"
      },
      "execution_count": null,
      "outputs": []
    }
  ]
}