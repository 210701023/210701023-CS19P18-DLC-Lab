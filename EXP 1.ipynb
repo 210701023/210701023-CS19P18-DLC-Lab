{
  "nbformat": 4,
  "nbformat_minor": 0,
  "metadata": {
    "colab": {
      "provenance": []
    },
    "kernelspec": {
      "name": "python3",
      "display_name": "Python 3"
    },
    "language_info": {
      "name": "python"
    }
  },
  "cells": [
    {
      "cell_type": "code",
      "execution_count": null,
      "metadata": {
        "id": "qZ9NSaQQYJq0"
      },
      "outputs": [],
      "source": [
        "conda create -n dlc python=3.7\n",
        "conda activate dlc\n",
        "pip install tensorflow\n",
        "pip install tensorflow-datasets\n",
        "pip install scikit-learn\n",
        "pip install pandas\n",
        "pip install jupyter notebook\n",
        "jupyter notebook\n"
      ]
    }
  ]
}